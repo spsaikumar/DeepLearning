{
  "nbformat": 4,
  "nbformat_minor": 0,
  "metadata": {
    "colab": {
      "provenance": []
    },
    "kernelspec": {
      "display_name": "Python 3",
      "language": "python",
      "name": "python3"
    },
    "language_info": {
      "codemirror_mode": {
        "name": "ipython",
        "version": 3
      },
      "file_extension": ".py",
      "mimetype": "text/x-python",
      "name": "python",
      "nbconvert_exporter": "python",
      "pygments_lexer": "ipython3",
      "version": "3.6.3"
    },
    "widgets": {
      "application/vnd.jupyter.widget-state+json": {
        "b3884e8dae864c98bb7046733ab40eae": {
          "model_module": "@jupyter-widgets/controls",
          "model_name": "HBoxModel",
          "model_module_version": "1.5.0",
          "state": {
            "_dom_classes": [],
            "_model_module": "@jupyter-widgets/controls",
            "_model_module_version": "1.5.0",
            "_model_name": "HBoxModel",
            "_view_count": null,
            "_view_module": "@jupyter-widgets/controls",
            "_view_module_version": "1.5.0",
            "_view_name": "HBoxView",
            "box_style": "",
            "children": [
              "IPY_MODEL_55cff87c9c704ee09ffcb63cb8372d1f",
              "IPY_MODEL_8d33bb66a5c745f58ac5a97754039871",
              "IPY_MODEL_30b421739af6437bb47646f765129cca"
            ],
            "layout": "IPY_MODEL_4f386412c24b4d7a8c1387eb0f9feccf"
          }
        },
        "55cff87c9c704ee09ffcb63cb8372d1f": {
          "model_module": "@jupyter-widgets/controls",
          "model_name": "HTMLModel",
          "model_module_version": "1.5.0",
          "state": {
            "_dom_classes": [],
            "_model_module": "@jupyter-widgets/controls",
            "_model_module_version": "1.5.0",
            "_model_name": "HTMLModel",
            "_view_count": null,
            "_view_module": "@jupyter-widgets/controls",
            "_view_module_version": "1.5.0",
            "_view_name": "HTMLView",
            "description": "",
            "description_tooltip": null,
            "layout": "IPY_MODEL_b6b1ba96e5c14eafad6bb1717f1d1475",
            "placeholder": "​",
            "style": "IPY_MODEL_6dac377029a341cdac91dc2680c922b2",
            "value": "100%"
          }
        },
        "8d33bb66a5c745f58ac5a97754039871": {
          "model_module": "@jupyter-widgets/controls",
          "model_name": "FloatProgressModel",
          "model_module_version": "1.5.0",
          "state": {
            "_dom_classes": [],
            "_model_module": "@jupyter-widgets/controls",
            "_model_module_version": "1.5.0",
            "_model_name": "FloatProgressModel",
            "_view_count": null,
            "_view_module": "@jupyter-widgets/controls",
            "_view_module_version": "1.5.0",
            "_view_name": "ProgressView",
            "bar_style": "success",
            "description": "",
            "description_tooltip": null,
            "layout": "IPY_MODEL_05fa7538e9a44a8ebee3e84addf6efa1",
            "max": 100,
            "min": 0,
            "orientation": "horizontal",
            "style": "IPY_MODEL_412b0403ed68446dab2cc8d4a7625d4a",
            "value": 100
          }
        },
        "30b421739af6437bb47646f765129cca": {
          "model_module": "@jupyter-widgets/controls",
          "model_name": "HTMLModel",
          "model_module_version": "1.5.0",
          "state": {
            "_dom_classes": [],
            "_model_module": "@jupyter-widgets/controls",
            "_model_module_version": "1.5.0",
            "_model_name": "HTMLModel",
            "_view_count": null,
            "_view_module": "@jupyter-widgets/controls",
            "_view_module_version": "1.5.0",
            "_view_name": "HTMLView",
            "description": "",
            "description_tooltip": null,
            "layout": "IPY_MODEL_5ec738c36ec04a828b9e5e15361f4b8c",
            "placeholder": "​",
            "style": "IPY_MODEL_e134a3c2022a4d34b660a72e5d7943e3",
            "value": " 100/100 [00:01&lt;00:00, 79.11it/s]"
          }
        },
        "4f386412c24b4d7a8c1387eb0f9feccf": {
          "model_module": "@jupyter-widgets/base",
          "model_name": "LayoutModel",
          "model_module_version": "1.2.0",
          "state": {
            "_model_module": "@jupyter-widgets/base",
            "_model_module_version": "1.2.0",
            "_model_name": "LayoutModel",
            "_view_count": null,
            "_view_module": "@jupyter-widgets/base",
            "_view_module_version": "1.2.0",
            "_view_name": "LayoutView",
            "align_content": null,
            "align_items": null,
            "align_self": null,
            "border": null,
            "bottom": null,
            "display": null,
            "flex": null,
            "flex_flow": null,
            "grid_area": null,
            "grid_auto_columns": null,
            "grid_auto_flow": null,
            "grid_auto_rows": null,
            "grid_column": null,
            "grid_gap": null,
            "grid_row": null,
            "grid_template_areas": null,
            "grid_template_columns": null,
            "grid_template_rows": null,
            "height": null,
            "justify_content": null,
            "justify_items": null,
            "left": null,
            "margin": null,
            "max_height": null,
            "max_width": null,
            "min_height": null,
            "min_width": null,
            "object_fit": null,
            "object_position": null,
            "order": null,
            "overflow": null,
            "overflow_x": null,
            "overflow_y": null,
            "padding": null,
            "right": null,
            "top": null,
            "visibility": null,
            "width": null
          }
        },
        "b6b1ba96e5c14eafad6bb1717f1d1475": {
          "model_module": "@jupyter-widgets/base",
          "model_name": "LayoutModel",
          "model_module_version": "1.2.0",
          "state": {
            "_model_module": "@jupyter-widgets/base",
            "_model_module_version": "1.2.0",
            "_model_name": "LayoutModel",
            "_view_count": null,
            "_view_module": "@jupyter-widgets/base",
            "_view_module_version": "1.2.0",
            "_view_name": "LayoutView",
            "align_content": null,
            "align_items": null,
            "align_self": null,
            "border": null,
            "bottom": null,
            "display": null,
            "flex": null,
            "flex_flow": null,
            "grid_area": null,
            "grid_auto_columns": null,
            "grid_auto_flow": null,
            "grid_auto_rows": null,
            "grid_column": null,
            "grid_gap": null,
            "grid_row": null,
            "grid_template_areas": null,
            "grid_template_columns": null,
            "grid_template_rows": null,
            "height": null,
            "justify_content": null,
            "justify_items": null,
            "left": null,
            "margin": null,
            "max_height": null,
            "max_width": null,
            "min_height": null,
            "min_width": null,
            "object_fit": null,
            "object_position": null,
            "order": null,
            "overflow": null,
            "overflow_x": null,
            "overflow_y": null,
            "padding": null,
            "right": null,
            "top": null,
            "visibility": null,
            "width": null
          }
        },
        "6dac377029a341cdac91dc2680c922b2": {
          "model_module": "@jupyter-widgets/controls",
          "model_name": "DescriptionStyleModel",
          "model_module_version": "1.5.0",
          "state": {
            "_model_module": "@jupyter-widgets/controls",
            "_model_module_version": "1.5.0",
            "_model_name": "DescriptionStyleModel",
            "_view_count": null,
            "_view_module": "@jupyter-widgets/base",
            "_view_module_version": "1.2.0",
            "_view_name": "StyleView",
            "description_width": ""
          }
        },
        "05fa7538e9a44a8ebee3e84addf6efa1": {
          "model_module": "@jupyter-widgets/base",
          "model_name": "LayoutModel",
          "model_module_version": "1.2.0",
          "state": {
            "_model_module": "@jupyter-widgets/base",
            "_model_module_version": "1.2.0",
            "_model_name": "LayoutModel",
            "_view_count": null,
            "_view_module": "@jupyter-widgets/base",
            "_view_module_version": "1.2.0",
            "_view_name": "LayoutView",
            "align_content": null,
            "align_items": null,
            "align_self": null,
            "border": null,
            "bottom": null,
            "display": null,
            "flex": null,
            "flex_flow": null,
            "grid_area": null,
            "grid_auto_columns": null,
            "grid_auto_flow": null,
            "grid_auto_rows": null,
            "grid_column": null,
            "grid_gap": null,
            "grid_row": null,
            "grid_template_areas": null,
            "grid_template_columns": null,
            "grid_template_rows": null,
            "height": null,
            "justify_content": null,
            "justify_items": null,
            "left": null,
            "margin": null,
            "max_height": null,
            "max_width": null,
            "min_height": null,
            "min_width": null,
            "object_fit": null,
            "object_position": null,
            "order": null,
            "overflow": null,
            "overflow_x": null,
            "overflow_y": null,
            "padding": null,
            "right": null,
            "top": null,
            "visibility": null,
            "width": null
          }
        },
        "412b0403ed68446dab2cc8d4a7625d4a": {
          "model_module": "@jupyter-widgets/controls",
          "model_name": "ProgressStyleModel",
          "model_module_version": "1.5.0",
          "state": {
            "_model_module": "@jupyter-widgets/controls",
            "_model_module_version": "1.5.0",
            "_model_name": "ProgressStyleModel",
            "_view_count": null,
            "_view_module": "@jupyter-widgets/base",
            "_view_module_version": "1.2.0",
            "_view_name": "StyleView",
            "bar_color": null,
            "description_width": ""
          }
        },
        "5ec738c36ec04a828b9e5e15361f4b8c": {
          "model_module": "@jupyter-widgets/base",
          "model_name": "LayoutModel",
          "model_module_version": "1.2.0",
          "state": {
            "_model_module": "@jupyter-widgets/base",
            "_model_module_version": "1.2.0",
            "_model_name": "LayoutModel",
            "_view_count": null,
            "_view_module": "@jupyter-widgets/base",
            "_view_module_version": "1.2.0",
            "_view_name": "LayoutView",
            "align_content": null,
            "align_items": null,
            "align_self": null,
            "border": null,
            "bottom": null,
            "display": null,
            "flex": null,
            "flex_flow": null,
            "grid_area": null,
            "grid_auto_columns": null,
            "grid_auto_flow": null,
            "grid_auto_rows": null,
            "grid_column": null,
            "grid_gap": null,
            "grid_row": null,
            "grid_template_areas": null,
            "grid_template_columns": null,
            "grid_template_rows": null,
            "height": null,
            "justify_content": null,
            "justify_items": null,
            "left": null,
            "margin": null,
            "max_height": null,
            "max_width": null,
            "min_height": null,
            "min_width": null,
            "object_fit": null,
            "object_position": null,
            "order": null,
            "overflow": null,
            "overflow_x": null,
            "overflow_y": null,
            "padding": null,
            "right": null,
            "top": null,
            "visibility": null,
            "width": null
          }
        },
        "e134a3c2022a4d34b660a72e5d7943e3": {
          "model_module": "@jupyter-widgets/controls",
          "model_name": "DescriptionStyleModel",
          "model_module_version": "1.5.0",
          "state": {
            "_model_module": "@jupyter-widgets/controls",
            "_model_module_version": "1.5.0",
            "_model_name": "DescriptionStyleModel",
            "_view_count": null,
            "_view_module": "@jupyter-widgets/base",
            "_view_module_version": "1.2.0",
            "_view_name": "StyleView",
            "description_width": ""
          }
        },
        "990cc10733d9477a9288a7d3ba5fd482": {
          "model_module": "@jupyter-widgets/controls",
          "model_name": "HBoxModel",
          "model_module_version": "1.5.0",
          "state": {
            "_dom_classes": [],
            "_model_module": "@jupyter-widgets/controls",
            "_model_module_version": "1.5.0",
            "_model_name": "HBoxModel",
            "_view_count": null,
            "_view_module": "@jupyter-widgets/controls",
            "_view_module_version": "1.5.0",
            "_view_name": "HBoxView",
            "box_style": "",
            "children": [
              "IPY_MODEL_4839063087ac4b05a425521c9f789ed6",
              "IPY_MODEL_55434b0da7434f3d9bd992d1724f4fe9",
              "IPY_MODEL_c40a13e8796d4fb5a13b7bc0e14a7466"
            ],
            "layout": "IPY_MODEL_e7139934377f4dee983111ff8301980d"
          }
        },
        "4839063087ac4b05a425521c9f789ed6": {
          "model_module": "@jupyter-widgets/controls",
          "model_name": "HTMLModel",
          "model_module_version": "1.5.0",
          "state": {
            "_dom_classes": [],
            "_model_module": "@jupyter-widgets/controls",
            "_model_module_version": "1.5.0",
            "_model_name": "HTMLModel",
            "_view_count": null,
            "_view_module": "@jupyter-widgets/controls",
            "_view_module_version": "1.5.0",
            "_view_name": "HTMLView",
            "description": "",
            "description_tooltip": null,
            "layout": "IPY_MODEL_de237c1b78f34fb780d9d1b796bd9870",
            "placeholder": "​",
            "style": "IPY_MODEL_23519b83bfe74735a0ae1251d7cdb098",
            "value": "100%"
          }
        },
        "55434b0da7434f3d9bd992d1724f4fe9": {
          "model_module": "@jupyter-widgets/controls",
          "model_name": "FloatProgressModel",
          "model_module_version": "1.5.0",
          "state": {
            "_dom_classes": [],
            "_model_module": "@jupyter-widgets/controls",
            "_model_module_version": "1.5.0",
            "_model_name": "FloatProgressModel",
            "_view_count": null,
            "_view_module": "@jupyter-widgets/controls",
            "_view_module_version": "1.5.0",
            "_view_name": "ProgressView",
            "bar_style": "success",
            "description": "",
            "description_tooltip": null,
            "layout": "IPY_MODEL_e5d80ad7cfa94c18ac15dd273ec672b1",
            "max": 100,
            "min": 0,
            "orientation": "horizontal",
            "style": "IPY_MODEL_95276c661d5240b6934fbb3daa86416d",
            "value": 100
          }
        },
        "c40a13e8796d4fb5a13b7bc0e14a7466": {
          "model_module": "@jupyter-widgets/controls",
          "model_name": "HTMLModel",
          "model_module_version": "1.5.0",
          "state": {
            "_dom_classes": [],
            "_model_module": "@jupyter-widgets/controls",
            "_model_module_version": "1.5.0",
            "_model_name": "HTMLModel",
            "_view_count": null,
            "_view_module": "@jupyter-widgets/controls",
            "_view_module_version": "1.5.0",
            "_view_name": "HTMLView",
            "description": "",
            "description_tooltip": null,
            "layout": "IPY_MODEL_b0fe0d1e5cca49959d1bd6cc3fcf37b4",
            "placeholder": "​",
            "style": "IPY_MODEL_bc45f31628d642b18ca9be94a7618bf7",
            "value": " 100/100 [00:01&lt;00:00, 41.88it/s]"
          }
        },
        "e7139934377f4dee983111ff8301980d": {
          "model_module": "@jupyter-widgets/base",
          "model_name": "LayoutModel",
          "model_module_version": "1.2.0",
          "state": {
            "_model_module": "@jupyter-widgets/base",
            "_model_module_version": "1.2.0",
            "_model_name": "LayoutModel",
            "_view_count": null,
            "_view_module": "@jupyter-widgets/base",
            "_view_module_version": "1.2.0",
            "_view_name": "LayoutView",
            "align_content": null,
            "align_items": null,
            "align_self": null,
            "border": null,
            "bottom": null,
            "display": null,
            "flex": null,
            "flex_flow": null,
            "grid_area": null,
            "grid_auto_columns": null,
            "grid_auto_flow": null,
            "grid_auto_rows": null,
            "grid_column": null,
            "grid_gap": null,
            "grid_row": null,
            "grid_template_areas": null,
            "grid_template_columns": null,
            "grid_template_rows": null,
            "height": null,
            "justify_content": null,
            "justify_items": null,
            "left": null,
            "margin": null,
            "max_height": null,
            "max_width": null,
            "min_height": null,
            "min_width": null,
            "object_fit": null,
            "object_position": null,
            "order": null,
            "overflow": null,
            "overflow_x": null,
            "overflow_y": null,
            "padding": null,
            "right": null,
            "top": null,
            "visibility": null,
            "width": null
          }
        },
        "de237c1b78f34fb780d9d1b796bd9870": {
          "model_module": "@jupyter-widgets/base",
          "model_name": "LayoutModel",
          "model_module_version": "1.2.0",
          "state": {
            "_model_module": "@jupyter-widgets/base",
            "_model_module_version": "1.2.0",
            "_model_name": "LayoutModel",
            "_view_count": null,
            "_view_module": "@jupyter-widgets/base",
            "_view_module_version": "1.2.0",
            "_view_name": "LayoutView",
            "align_content": null,
            "align_items": null,
            "align_self": null,
            "border": null,
            "bottom": null,
            "display": null,
            "flex": null,
            "flex_flow": null,
            "grid_area": null,
            "grid_auto_columns": null,
            "grid_auto_flow": null,
            "grid_auto_rows": null,
            "grid_column": null,
            "grid_gap": null,
            "grid_row": null,
            "grid_template_areas": null,
            "grid_template_columns": null,
            "grid_template_rows": null,
            "height": null,
            "justify_content": null,
            "justify_items": null,
            "left": null,
            "margin": null,
            "max_height": null,
            "max_width": null,
            "min_height": null,
            "min_width": null,
            "object_fit": null,
            "object_position": null,
            "order": null,
            "overflow": null,
            "overflow_x": null,
            "overflow_y": null,
            "padding": null,
            "right": null,
            "top": null,
            "visibility": null,
            "width": null
          }
        },
        "23519b83bfe74735a0ae1251d7cdb098": {
          "model_module": "@jupyter-widgets/controls",
          "model_name": "DescriptionStyleModel",
          "model_module_version": "1.5.0",
          "state": {
            "_model_module": "@jupyter-widgets/controls",
            "_model_module_version": "1.5.0",
            "_model_name": "DescriptionStyleModel",
            "_view_count": null,
            "_view_module": "@jupyter-widgets/base",
            "_view_module_version": "1.2.0",
            "_view_name": "StyleView",
            "description_width": ""
          }
        },
        "e5d80ad7cfa94c18ac15dd273ec672b1": {
          "model_module": "@jupyter-widgets/base",
          "model_name": "LayoutModel",
          "model_module_version": "1.2.0",
          "state": {
            "_model_module": "@jupyter-widgets/base",
            "_model_module_version": "1.2.0",
            "_model_name": "LayoutModel",
            "_view_count": null,
            "_view_module": "@jupyter-widgets/base",
            "_view_module_version": "1.2.0",
            "_view_name": "LayoutView",
            "align_content": null,
            "align_items": null,
            "align_self": null,
            "border": null,
            "bottom": null,
            "display": null,
            "flex": null,
            "flex_flow": null,
            "grid_area": null,
            "grid_auto_columns": null,
            "grid_auto_flow": null,
            "grid_auto_rows": null,
            "grid_column": null,
            "grid_gap": null,
            "grid_row": null,
            "grid_template_areas": null,
            "grid_template_columns": null,
            "grid_template_rows": null,
            "height": null,
            "justify_content": null,
            "justify_items": null,
            "left": null,
            "margin": null,
            "max_height": null,
            "max_width": null,
            "min_height": null,
            "min_width": null,
            "object_fit": null,
            "object_position": null,
            "order": null,
            "overflow": null,
            "overflow_x": null,
            "overflow_y": null,
            "padding": null,
            "right": null,
            "top": null,
            "visibility": null,
            "width": null
          }
        },
        "95276c661d5240b6934fbb3daa86416d": {
          "model_module": "@jupyter-widgets/controls",
          "model_name": "ProgressStyleModel",
          "model_module_version": "1.5.0",
          "state": {
            "_model_module": "@jupyter-widgets/controls",
            "_model_module_version": "1.5.0",
            "_model_name": "ProgressStyleModel",
            "_view_count": null,
            "_view_module": "@jupyter-widgets/base",
            "_view_module_version": "1.2.0",
            "_view_name": "StyleView",
            "bar_color": null,
            "description_width": ""
          }
        },
        "b0fe0d1e5cca49959d1bd6cc3fcf37b4": {
          "model_module": "@jupyter-widgets/base",
          "model_name": "LayoutModel",
          "model_module_version": "1.2.0",
          "state": {
            "_model_module": "@jupyter-widgets/base",
            "_model_module_version": "1.2.0",
            "_model_name": "LayoutModel",
            "_view_count": null,
            "_view_module": "@jupyter-widgets/base",
            "_view_module_version": "1.2.0",
            "_view_name": "LayoutView",
            "align_content": null,
            "align_items": null,
            "align_self": null,
            "border": null,
            "bottom": null,
            "display": null,
            "flex": null,
            "flex_flow": null,
            "grid_area": null,
            "grid_auto_columns": null,
            "grid_auto_flow": null,
            "grid_auto_rows": null,
            "grid_column": null,
            "grid_gap": null,
            "grid_row": null,
            "grid_template_areas": null,
            "grid_template_columns": null,
            "grid_template_rows": null,
            "height": null,
            "justify_content": null,
            "justify_items": null,
            "left": null,
            "margin": null,
            "max_height": null,
            "max_width": null,
            "min_height": null,
            "min_width": null,
            "object_fit": null,
            "object_position": null,
            "order": null,
            "overflow": null,
            "overflow_x": null,
            "overflow_y": null,
            "padding": null,
            "right": null,
            "top": null,
            "visibility": null,
            "width": null
          }
        },
        "bc45f31628d642b18ca9be94a7618bf7": {
          "model_module": "@jupyter-widgets/controls",
          "model_name": "DescriptionStyleModel",
          "model_module_version": "1.5.0",
          "state": {
            "_model_module": "@jupyter-widgets/controls",
            "_model_module_version": "1.5.0",
            "_model_name": "DescriptionStyleModel",
            "_view_count": null,
            "_view_module": "@jupyter-widgets/base",
            "_view_module_version": "1.2.0",
            "_view_name": "StyleView",
            "description_width": ""
          }
        },
        "62dbe7e5b83a4e4c897f87db3ba678bf": {
          "model_module": "@jupyter-widgets/controls",
          "model_name": "HBoxModel",
          "model_module_version": "1.5.0",
          "state": {
            "_dom_classes": [],
            "_model_module": "@jupyter-widgets/controls",
            "_model_module_version": "1.5.0",
            "_model_name": "HBoxModel",
            "_view_count": null,
            "_view_module": "@jupyter-widgets/controls",
            "_view_module_version": "1.5.0",
            "_view_name": "HBoxView",
            "box_style": "",
            "children": [
              "IPY_MODEL_45b04695d89d404880c613a22a11e4a7",
              "IPY_MODEL_809ddf34bd1e4bb3ba056ce220deaf8f",
              "IPY_MODEL_b0b305b19dc043bf99c7dab189e227d6"
            ],
            "layout": "IPY_MODEL_0d6adcd13180456d9b04b7ee382209ef"
          }
        },
        "45b04695d89d404880c613a22a11e4a7": {
          "model_module": "@jupyter-widgets/controls",
          "model_name": "HTMLModel",
          "model_module_version": "1.5.0",
          "state": {
            "_dom_classes": [],
            "_model_module": "@jupyter-widgets/controls",
            "_model_module_version": "1.5.0",
            "_model_name": "HTMLModel",
            "_view_count": null,
            "_view_module": "@jupyter-widgets/controls",
            "_view_module_version": "1.5.0",
            "_view_name": "HTMLView",
            "description": "",
            "description_tooltip": null,
            "layout": "IPY_MODEL_2dc57d7fca8045d789f1d871923c0bce",
            "placeholder": "​",
            "style": "IPY_MODEL_07c78edc31814f47a0f91106d18acb52",
            "value": "100%"
          }
        },
        "809ddf34bd1e4bb3ba056ce220deaf8f": {
          "model_module": "@jupyter-widgets/controls",
          "model_name": "FloatProgressModel",
          "model_module_version": "1.5.0",
          "state": {
            "_dom_classes": [],
            "_model_module": "@jupyter-widgets/controls",
            "_model_module_version": "1.5.0",
            "_model_name": "FloatProgressModel",
            "_view_count": null,
            "_view_module": "@jupyter-widgets/controls",
            "_view_module_version": "1.5.0",
            "_view_name": "ProgressView",
            "bar_style": "success",
            "description": "",
            "description_tooltip": null,
            "layout": "IPY_MODEL_b840b4cc09b445cca91b74778695c876",
            "max": 100,
            "min": 0,
            "orientation": "horizontal",
            "style": "IPY_MODEL_c4d484383cf54b788e8007e060c03fbf",
            "value": 100
          }
        },
        "b0b305b19dc043bf99c7dab189e227d6": {
          "model_module": "@jupyter-widgets/controls",
          "model_name": "HTMLModel",
          "model_module_version": "1.5.0",
          "state": {
            "_dom_classes": [],
            "_model_module": "@jupyter-widgets/controls",
            "_model_module_version": "1.5.0",
            "_model_name": "HTMLModel",
            "_view_count": null,
            "_view_module": "@jupyter-widgets/controls",
            "_view_module_version": "1.5.0",
            "_view_name": "HTMLView",
            "description": "",
            "description_tooltip": null,
            "layout": "IPY_MODEL_1c3810b587b34f03986d9ceea0e84ad6",
            "placeholder": "​",
            "style": "IPY_MODEL_a40b79a044c94e8c867d8f53041d9fb6",
            "value": " 100/100 [00:02&lt;00:00, 48.64it/s]"
          }
        },
        "0d6adcd13180456d9b04b7ee382209ef": {
          "model_module": "@jupyter-widgets/base",
          "model_name": "LayoutModel",
          "model_module_version": "1.2.0",
          "state": {
            "_model_module": "@jupyter-widgets/base",
            "_model_module_version": "1.2.0",
            "_model_name": "LayoutModel",
            "_view_count": null,
            "_view_module": "@jupyter-widgets/base",
            "_view_module_version": "1.2.0",
            "_view_name": "LayoutView",
            "align_content": null,
            "align_items": null,
            "align_self": null,
            "border": null,
            "bottom": null,
            "display": null,
            "flex": null,
            "flex_flow": null,
            "grid_area": null,
            "grid_auto_columns": null,
            "grid_auto_flow": null,
            "grid_auto_rows": null,
            "grid_column": null,
            "grid_gap": null,
            "grid_row": null,
            "grid_template_areas": null,
            "grid_template_columns": null,
            "grid_template_rows": null,
            "height": null,
            "justify_content": null,
            "justify_items": null,
            "left": null,
            "margin": null,
            "max_height": null,
            "max_width": null,
            "min_height": null,
            "min_width": null,
            "object_fit": null,
            "object_position": null,
            "order": null,
            "overflow": null,
            "overflow_x": null,
            "overflow_y": null,
            "padding": null,
            "right": null,
            "top": null,
            "visibility": null,
            "width": null
          }
        },
        "2dc57d7fca8045d789f1d871923c0bce": {
          "model_module": "@jupyter-widgets/base",
          "model_name": "LayoutModel",
          "model_module_version": "1.2.0",
          "state": {
            "_model_module": "@jupyter-widgets/base",
            "_model_module_version": "1.2.0",
            "_model_name": "LayoutModel",
            "_view_count": null,
            "_view_module": "@jupyter-widgets/base",
            "_view_module_version": "1.2.0",
            "_view_name": "LayoutView",
            "align_content": null,
            "align_items": null,
            "align_self": null,
            "border": null,
            "bottom": null,
            "display": null,
            "flex": null,
            "flex_flow": null,
            "grid_area": null,
            "grid_auto_columns": null,
            "grid_auto_flow": null,
            "grid_auto_rows": null,
            "grid_column": null,
            "grid_gap": null,
            "grid_row": null,
            "grid_template_areas": null,
            "grid_template_columns": null,
            "grid_template_rows": null,
            "height": null,
            "justify_content": null,
            "justify_items": null,
            "left": null,
            "margin": null,
            "max_height": null,
            "max_width": null,
            "min_height": null,
            "min_width": null,
            "object_fit": null,
            "object_position": null,
            "order": null,
            "overflow": null,
            "overflow_x": null,
            "overflow_y": null,
            "padding": null,
            "right": null,
            "top": null,
            "visibility": null,
            "width": null
          }
        },
        "07c78edc31814f47a0f91106d18acb52": {
          "model_module": "@jupyter-widgets/controls",
          "model_name": "DescriptionStyleModel",
          "model_module_version": "1.5.0",
          "state": {
            "_model_module": "@jupyter-widgets/controls",
            "_model_module_version": "1.5.0",
            "_model_name": "DescriptionStyleModel",
            "_view_count": null,
            "_view_module": "@jupyter-widgets/base",
            "_view_module_version": "1.2.0",
            "_view_name": "StyleView",
            "description_width": ""
          }
        },
        "b840b4cc09b445cca91b74778695c876": {
          "model_module": "@jupyter-widgets/base",
          "model_name": "LayoutModel",
          "model_module_version": "1.2.0",
          "state": {
            "_model_module": "@jupyter-widgets/base",
            "_model_module_version": "1.2.0",
            "_model_name": "LayoutModel",
            "_view_count": null,
            "_view_module": "@jupyter-widgets/base",
            "_view_module_version": "1.2.0",
            "_view_name": "LayoutView",
            "align_content": null,
            "align_items": null,
            "align_self": null,
            "border": null,
            "bottom": null,
            "display": null,
            "flex": null,
            "flex_flow": null,
            "grid_area": null,
            "grid_auto_columns": null,
            "grid_auto_flow": null,
            "grid_auto_rows": null,
            "grid_column": null,
            "grid_gap": null,
            "grid_row": null,
            "grid_template_areas": null,
            "grid_template_columns": null,
            "grid_template_rows": null,
            "height": null,
            "justify_content": null,
            "justify_items": null,
            "left": null,
            "margin": null,
            "max_height": null,
            "max_width": null,
            "min_height": null,
            "min_width": null,
            "object_fit": null,
            "object_position": null,
            "order": null,
            "overflow": null,
            "overflow_x": null,
            "overflow_y": null,
            "padding": null,
            "right": null,
            "top": null,
            "visibility": null,
            "width": null
          }
        },
        "c4d484383cf54b788e8007e060c03fbf": {
          "model_module": "@jupyter-widgets/controls",
          "model_name": "ProgressStyleModel",
          "model_module_version": "1.5.0",
          "state": {
            "_model_module": "@jupyter-widgets/controls",
            "_model_module_version": "1.5.0",
            "_model_name": "ProgressStyleModel",
            "_view_count": null,
            "_view_module": "@jupyter-widgets/base",
            "_view_module_version": "1.2.0",
            "_view_name": "StyleView",
            "bar_color": null,
            "description_width": ""
          }
        },
        "1c3810b587b34f03986d9ceea0e84ad6": {
          "model_module": "@jupyter-widgets/base",
          "model_name": "LayoutModel",
          "model_module_version": "1.2.0",
          "state": {
            "_model_module": "@jupyter-widgets/base",
            "_model_module_version": "1.2.0",
            "_model_name": "LayoutModel",
            "_view_count": null,
            "_view_module": "@jupyter-widgets/base",
            "_view_module_version": "1.2.0",
            "_view_name": "LayoutView",
            "align_content": null,
            "align_items": null,
            "align_self": null,
            "border": null,
            "bottom": null,
            "display": null,
            "flex": null,
            "flex_flow": null,
            "grid_area": null,
            "grid_auto_columns": null,
            "grid_auto_flow": null,
            "grid_auto_rows": null,
            "grid_column": null,
            "grid_gap": null,
            "grid_row": null,
            "grid_template_areas": null,
            "grid_template_columns": null,
            "grid_template_rows": null,
            "height": null,
            "justify_content": null,
            "justify_items": null,
            "left": null,
            "margin": null,
            "max_height": null,
            "max_width": null,
            "min_height": null,
            "min_width": null,
            "object_fit": null,
            "object_position": null,
            "order": null,
            "overflow": null,
            "overflow_x": null,
            "overflow_y": null,
            "padding": null,
            "right": null,
            "top": null,
            "visibility": null,
            "width": null
          }
        },
        "a40b79a044c94e8c867d8f53041d9fb6": {
          "model_module": "@jupyter-widgets/controls",
          "model_name": "DescriptionStyleModel",
          "model_module_version": "1.5.0",
          "state": {
            "_model_module": "@jupyter-widgets/controls",
            "_model_module_version": "1.5.0",
            "_model_name": "DescriptionStyleModel",
            "_view_count": null,
            "_view_module": "@jupyter-widgets/base",
            "_view_module_version": "1.2.0",
            "_view_name": "StyleView",
            "description_width": ""
          }
        }
      }
    }
  },
  "cells": [
    {
      "cell_type": "markdown",
      "metadata": {
        "id": "y871RZtRhCEH"
      },
      "source": [
        "# <font color='red'>Backpropagation</font>"
      ]
    },
    {
      "cell_type": "markdown",
      "metadata": {
        "id": "LqePYi-4mFvK"
      },
      "source": [
        "\n",
        "In this assignment, you will implement Backpropagation from scratch. You will then verify the correctness of the your implementation using a \"grader\" function/cell (provided by us) which will match your implmentation.\n",
        "\n",
        "The grader fucntion would help you validate the correctness of your code. \n",
        "\n",
        "Please submit the final Colab notebook in the classroom ONLY after you have verified your code using the grader function/cell.\n",
        "\n",
        "\n"
      ]
    },
    {
      "cell_type": "markdown",
      "metadata": {
        "id": "0huUQ0byiI0I"
      },
      "source": [
        "## <font color='red'>Loading data </font>"
      ]
    },
    {
      "cell_type": "code",
      "source": [],
      "metadata": {
        "id": "YQmLOWsA_Q9k"
      },
      "execution_count": null,
      "outputs": []
    },
    {
      "cell_type": "code",
      "source": [
        "from google.colab import drive\n",
        "drive.mount('/content/drive')"
      ],
      "metadata": {
        "colab": {
          "base_uri": "https://localhost:8080/"
        },
        "id": "5fKlKae__R09",
        "outputId": "3f0fe9e7-e08c-4799-9b43-2a6b5fd6e680"
      },
      "execution_count": 2,
      "outputs": [
        {
          "output_type": "stream",
          "name": "stdout",
          "text": [
            "Mounted at /content/drive\n"
          ]
        }
      ]
    },
    {
      "cell_type": "code",
      "metadata": {
        "id": "1hSje5CBgcUb",
        "colab": {
          "base_uri": "https://localhost:8080/"
        },
        "outputId": "d0a4d93a-b109-45f3-ff15-26b32e4a8d8a"
      },
      "source": [
        "import pickle\n",
        "import numpy as np\n",
        "from tqdm.auto import tqdm\n",
        "import matplotlib.pyplot as plt\n",
        "\n",
        "with open('/content/drive/MyDrive/Colab Notebooks/AAIC_Assignments/solving/19_Backpropagation-and-Gradient-Checking/data.pkl', 'rb') as f:\n",
        "    data = pickle.load(f)\n",
        "print(data.shape)\n",
        "X = data[:, :5]\n",
        "y = data[:, -1]\n",
        "print(X.shape, y.shape)"
      ],
      "execution_count": 3,
      "outputs": [
        {
          "output_type": "stream",
          "name": "stdout",
          "text": [
            "(506, 6)\n",
            "(506, 5) (506,)\n"
          ]
        }
      ]
    },
    {
      "cell_type": "markdown",
      "metadata": {
        "id": "hmphIg_E52Rs"
      },
      "source": [
        "<font color='blue'><b>Check this video for better understanding of the computational graphs and back propagation</font>"
      ]
    },
    {
      "cell_type": "code",
      "metadata": {
        "colab": {
          "base_uri": "https://localhost:8080/",
          "height": 520
        },
        "id": "uUWpHhgg53eu",
        "outputId": "3cc89735-d0a7-4c1c-aab5-d4e75b856a6b"
      },
      "source": [
        "from IPython.display import YouTubeVideo\n",
        "YouTubeVideo('i94OvYb6noo',width=\"1000\",height=\"500\")"
      ],
      "execution_count": null,
      "outputs": [
        {
          "data": {
            "image/jpeg": "[encoded data removed]",
            "text/html": [
              "\n",
              "        <iframe\n",
              "            width=\"1000\"\n",
              "            height=\"500\"\n",
              "            src=\"https://www.youtube.com/embed/i94OvYb6noo\"\n",
              "            frameborder=\"0\"\n",
              "            allowfullscreen\n",
              "        ></iframe>\n",
              "        "
            ],
            "text/plain": [
              "<IPython.lib.display.YouTubeVideo at 0x7fef8b613f50>"
            ]
          },
          "execution_count": 1,
          "metadata": {},
          "output_type": "execute_result"
        }
      ]
    },
    {
      "cell_type": "markdown",
      "metadata": {
        "id": "5JL-0soQistC"
      },
      "source": [
        "# <font color='red'>Computational graph</font>"
      ]
    },
    {
      "cell_type": "markdown",
      "metadata": {
        "id": "nREnTTJ3i0Vd"
      },
      "source": [
        "<img src='https://i.imgur.com/seSGbNS.png'>"
      ]
    },
    {
      "cell_type": "markdown",
      "metadata": {
        "id": "DSPX_H_4i_HT"
      },
      "source": [
        "\n",
        "*  **If you observe the graph, we are having input features [f1, f2, f3, f4, f5] and 9 weights [w1, w2, w3, w4, w5, w6,    w7, w8, w9]**.<br><br>\n",
        "*  **The final output of this graph is a value L which is computed as (Y-Y')^2** "
      ]
    },
    {
      "cell_type": "markdown",
      "metadata": {
        "id": "D54eDEv6jkO4"
      },
      "source": [
        "## <font color='red'>Task 1: Implementing Forward propagation, Backpropagation and Gradient checking </font>"
      ]
    },
    {
      "cell_type": "markdown",
      "metadata": {
        "id": "xyWK94o_fTKH"
      },
      "source": [
        "# <font color='red'>Task 1.1 </font>"
      ]
    },
    {
      "cell_type": "markdown",
      "metadata": {
        "id": "RwEcPWLffTKI"
      },
      "source": [
        "## <font color='blue'>Forward propagation </font>"
      ]
    },
    {
      "cell_type": "markdown",
      "metadata": {
        "id": "FCZrm-gkfTKI"
      },
      "source": [
        "\n",
        "*  <b>\n",
        "    Forward propagation</b>(Write your code in<font color='blue'> def forward_propagation()</b></font>)<br><br>\n",
        "    For easy debugging, we will break the computational graph into 3 parts.\n",
        "\n",
        "    <font color='green'><b>Part 1</b></font></b>\n",
        "    <img src='https://i.imgur.com/0xUaxy6.png'><br><br>\n",
        "    <font color='green'><b>Part 2</b></font></b><br>\n",
        "    <img src='https://i.imgur.com/J29pAJL.png'><br><br>\n",
        "    <font color='green'><b>Part 3</b></font></b>\n",
        "    <img src='https://i.imgur.com/vMyCsd9.png'>"
      ]
    },
    {
      "cell_type": "code",
      "metadata": {
        "id": "ADCovl2FfTKJ"
      },
      "source": [
        "def sigmoid(z):\n",
        "    '''In this function, we will compute the sigmoid(z)'''\n",
        "    # we can use this function in forward and backward propagation\n",
        "    # write the code to compute the sigmoid value of z and return that value\n",
        "    sig = 1/(1+np.exp(-z)) \n",
        "    return sig"
      ],
      "execution_count": 4,
      "outputs": []
    },
    {
      "cell_type": "code",
      "metadata": {
        "id": "dLJ-OYwefTKJ",
        "colab": {
          "base_uri": "https://localhost:8080/"
        },
        "outputId": "d4e51497-b22e-460c-f0cc-5e22c6aa6320"
      },
      "source": [
        "def grader_sigmoid(z):\n",
        "  #if you have written the code correctly then the grader function will output true\n",
        "  val=sigmoid(z)\n",
        "  assert(val==0.8807970779778823)\n",
        "  return True\n",
        "grader_sigmoid(2)"
      ],
      "execution_count": 5,
      "outputs": [
        {
          "output_type": "execute_result",
          "data": {
            "text/plain": [
              "True"
            ]
          },
          "metadata": {},
          "execution_count": 5
        }
      ]
    },
    {
      "cell_type": "code",
      "source": [
        "from math import exp, tanh"
      ],
      "metadata": {
        "id": "SyNsoyywAWhj"
      },
      "execution_count": 8,
      "outputs": []
    },
    {
      "cell_type": "code",
      "metadata": {
        "id": "KD3piNkifTKJ"
      },
      "source": [
        "def forward_propagation(x, y, w):\n",
        "        '''In this function, we will compute the forward propagation '''\n",
        "        # X: input data point, note that in this assignment you are having 5-d data points\n",
        "        # y: output varible\n",
        "        # W: weight array, its of length 9, W[0] corresponds to w1 in graph, W[1] corresponds to w2 in graph,..., W[8] corresponds to w9 in graph.  \n",
        "        # you have to return the following variables\n",
        "        # exp= part1 (compute the forward propagation until exp and then store the values in exp)\n",
        "        # tanh =part2(compute the forward propagation until tanh and then store the values in tanh)\n",
        "        # sig = part3(compute the forward propagation until sigmoid and then store the values in sig)\n",
        "        # we are computing one of the values for better understanding\n",
        "        \n",
        "        \n",
        "        val_1= (w[0]*x[0]+w[1]*x[1]) * (w[0]*x[0]+w[1]*x[1]) + w[5]\n",
        "        part_1 = np.exp(val_1)\n",
        "        z = ( np.sin(w[2]*x[2]) * ( w[3]*x[3] + w[4]*x[4]) ) + w[7]\n",
        "        part_2 = np.tanh(part_1+w[6])\n",
        "        part_3 = sigmoid(z)\n",
        "        loss_val = pow(y-(part_2 + sigmoid(z) * w[8]), 2)\n",
        "        y_pred = part_2 +sigmoid(z)*w[8]\n",
        "        dl = -2*(y-y_pred)\n",
        "        # after computing part1,part2 and part3 compute the value of y' from the main Computational graph using required equations\n",
        "        # write code to compute the value of L=(y-y')^2 and store it in variable loss\n",
        "        # compute derivative of L  w.r.to y' and store it in dy_pred \n",
        "        # Create a dictionary to store all the intermediate values i.e. dy_pred ,loss,exp,tanh,sigmoid\n",
        "        # we will be using the dictionary to find values in backpropagation, you can add other keys in dictionary as well\n",
        "        \n",
        "        forward_dict={}\n",
        "        forward_dict['exp']= part_1\n",
        "        forward_dict['sigmoid'] = part_3\n",
        "        forward_dict['tanh'] = part_2\n",
        "        forward_dict['loss'] = loss_val\n",
        "        forward_dict['dy_pred'] = dl\n",
        "  \n",
        "        \n",
        "        return forward_dict"
      ],
      "execution_count": 28,
      "outputs": []
    },
    {
      "cell_type": "code",
      "metadata": {
        "id": "vP0iV7f4fTKK",
        "colab": {
          "base_uri": "https://localhost:8080/"
        },
        "outputId": "60b49f76-0cf4-4fbb-d4ae-1c02dd8c96d2"
      },
      "source": [
        "def grader_forwardprop(data):\n",
        "    dl = (data['dy_pred']==-1.9285278284819143)\n",
        "    loss=(data['loss']==0.9298048963072919)\n",
        "    part1=(data['exp']==1.1272967040973583)\n",
        "    part2=(data['tanh']==0.8417934192562146)\n",
        "    part3=(data['sigmoid']==0.5279179387419721)\n",
        "    assert(dl and loss and part1 and part2 and part3)\n",
        "    return True\n",
        "w=np.ones(9)*0.1\n",
        "d1=forward_propagation(X[0],y[0],w)\n",
        "grader_forwardprop(d1)"
      ],
      "execution_count": 29,
      "outputs": [
        {
          "output_type": "execute_result",
          "data": {
            "text/plain": [
              "True"
            ]
          },
          "metadata": {},
          "execution_count": 29
        }
      ]
    },
    {
      "cell_type": "markdown",
      "metadata": {
        "id": "2zcQmvkvfTKL"
      },
      "source": [
        "# <font color='red'>Task 1.2 </font>"
      ]
    },
    {
      "cell_type": "markdown",
      "metadata": {
        "id": "4YVYD18xfTKL"
      },
      "source": [
        "## <font color='blue'>Backward propagation</font>"
      ]
    },
    {
      "cell_type": "code",
      "source": [
        "from math import *"
      ],
      "metadata": {
        "id": "cny3aQWHL8sb"
      },
      "execution_count": 39,
      "outputs": []
    },
    {
      "cell_type": "code",
      "source": [
        "def backward_propagation(x,y,w,forward_dict):\n",
        "    '''In this function, we will compute the backward propagation '''\n",
        "    # forward_dict: the outputs of the forward_propagation() function\n",
        "    # write code to compute the gradients of each weight [w1,w2,w3,...,w9]\n",
        "    # Hint: you can use dict type to store the required variables \n",
        "    # dw1 = # in dw1 compute derivative of L w.r.to w1\n",
        "    # dw2 = # in dw2 compute derivative of L w.r.to w2\n",
        "    # dw3 = # in dw3 compute derivative of L w.r.to w3\n",
        "    # dw4 = # in dw4 compute derivative of L w.r.to w4\n",
        "    # dw5 = # in dw5 compute derivative of L w.r.to w5\n",
        "    # dw6 = # in dw6 compute derivative of L w.r.to w6\n",
        "    # dw7 = # in dw7 compute derivative of L w.r.to w7\n",
        "    # dw8 = # in dw8 compute derivative of L w.r.to w8\n",
        "    # dw9 = # in dw9 compute derivative of L w.r.to w9\n",
        "    \n",
        "    \n",
        "    backward_dict={}\n",
        "    #store the variables dw1,dw2 etc. in a dict as backward_dict['dw1']= dw1,backward_dict['dw2']= dw2...\n",
        "    dw1=forward_dict['dy_pred']*(1-(pow(forward_dict['tanh'],2)))*forward_dict[\"exp\"]*2*((w[0]*x[0])+(w[1]*x[1]))*x[0]\n",
        "    dw2=forward_dict['dy_pred']*(1-(pow(forward_dict['tanh'],2)))*forward_dict[\"exp\"]*2*((w[0]*x[0])+(w[1]*x[1]))*x[1]\n",
        "    dw3=forward_dict['dy_pred']*(forward_dict['sigmoid']*(1-forward_dict['sigmoid']))*w[8]*((w[3]*x[3])+(w[4]*x[4]))*cos(x[2]*w[2])*x[2]\n",
        "    dw4=forward_dict['dy_pred']*(forward_dict['sigmoid']*(1-forward_dict['sigmoid']))*w[8]*sin(x[2]*w[2])*x[3]\n",
        "    dw5=forward_dict['dy_pred']*(forward_dict['sigmoid']*(1-forward_dict['sigmoid']))*w[8]*sin(x[2]*w[2])*x[4]\n",
        "    dw6 =forward_dict['dy_pred']*(1-(pow(forward_dict['tanh'],2)))*forward_dict[\"exp\"]\n",
        "    dw7 = forward_dict['dy_pred']*(1-(pow(forward_dict['tanh'],2)))\n",
        "    dw8 = forward_dict['dy_pred']*(forward_dict['sigmoid']*(1-forward_dict['sigmoid']))*w[8]\n",
        "    dw9 = forward_dict['dy_pred']*forward_dict['sigmoid']\n",
        "    backward_dict['dw1']=dw1 \n",
        "    backward_dict['dw2']=dw2\n",
        "    backward_dict['dw3']=dw3\n",
        "    backward_dict['dw4']=dw4\n",
        "    backward_dict['dw5']=dw5\n",
        "    backward_dict['dw6']=dw6\n",
        "    backward_dict['dw7']=dw7\n",
        "    backward_dict['dw8']=dw8\n",
        "    backward_dict['dw9']=dw9\n",
        "    \n",
        "    \n",
        "    return backward_dict"
      ],
      "metadata": {
        "id": "-tQB5_4IMsXT"
      },
      "execution_count": 68,
      "outputs": []
    },
    {
      "cell_type": "code",
      "metadata": {
        "id": "0ipQbNXOfTKM",
        "colab": {
          "base_uri": "https://localhost:8080/"
        },
        "outputId": "890cc267-f85a-448f-e767-cda4baf89184"
      },
      "source": [
        "def grader_backprop(data):\n",
        "    dw1=(np.round(data['dw1'],6)==-0.229733)\n",
        "    dw2=(np.round(data['dw2'],6)==-0.021408)\n",
        "    dw3=(np.round(data['dw3'],6)==-0.005625)\n",
        "    dw4=(np.round(data['dw4'],6)==-0.004658)\n",
        "    dw5=(np.round(data['dw5'],6)==-0.001008)\n",
        "    dw6=(np.round(data['dw6'],6)==-0.633475)\n",
        "    dw7=(np.round(data['dw7'],6)==-0.561942)\n",
        "    dw8=(np.round(data['dw8'],6)==-0.048063)\n",
        "    dw9=(np.round(data['dw9'],6)==-1.018104)\n",
        "    assert(dw1 and dw2 and dw3 and dw4 and dw5 and dw6 and dw7 and dw8 and dw9)\n",
        "    return True \n",
        "w=np.ones(9)*0.1\n",
        "forward_dict=forward_propagation(X[0],y[0],w)\n",
        "backward_dict=backward_propagation(X[0],y[0],w,forward_dict)\n",
        "grader_backprop(backward_dict)"
      ],
      "execution_count": 69,
      "outputs": [
        {
          "output_type": "execute_result",
          "data": {
            "text/plain": [
              "True"
            ]
          },
          "metadata": {},
          "execution_count": 69
        }
      ]
    },
    {
      "cell_type": "markdown",
      "metadata": {
        "id": "RlR1JVN5fTKM"
      },
      "source": [
        "# <font color='red'>Task 1.3 </font>"
      ]
    },
    {
      "cell_type": "markdown",
      "metadata": {
        "id": "STS4NrQQc6OH"
      },
      "source": [
        " ## <font color='blue'>Gradient clipping</font>"
      ]
    },
    {
      "cell_type": "markdown",
      "metadata": {
        "id": "XY7ivRNzdPok"
      },
      "source": [
        "<b> Check this  <a href='https://towardsdatascience.com/how-to-debug-a-neural-network-with-gradient-checking-41deec0357a9'>blog link</a> for more details on Gradient clipping"
      ]
    },
    {
      "cell_type": "markdown",
      "metadata": {
        "id": "BrsfpDoidtZ5"
      },
      "source": [
        " we know that the derivative of any function is\n",
        " \n",
        " $$\\lim_{\\epsilon\\to0}\\frac{f(x+\\epsilon)-f(x-\\epsilon)}{2\\epsilon}$$\n"
      ]
    },
    {
      "cell_type": "markdown",
      "metadata": {
        "id": "vUcmt0kPd02f"
      },
      "source": [
        "*  The definition above can be used as a numerical approximation of the derivative. Taking an epsilon small enough, the calculated approximation will have an error in the range of epsilon squared. \n",
        "\n",
        "*  In other words, if epsilon is 0.001, the approximation will be off by 0.00001.\n",
        "\n",
        "Therefore, we can use this to approximate the gradient, and in turn make sure that backpropagation is implemented properly. This forms the basis of <b>gradient checking!</b>"
      ]
    },
    {
      "cell_type": "markdown",
      "metadata": {
        "id": "pFSu16KCeU0x"
      },
      "source": [
        "## <Font color='blue'>Gradient checking example</font>"
      ]
    },
    {
      "cell_type": "markdown",
      "metadata": {
        "id": "Gz0mmT_xecfC"
      },
      "source": [
        "<font >\n",
        "lets understand the concept with a simple example:\n",
        "$f(w1,w2,x1,x2)=w_{1}^{2} . x_{1} + w_{2} . x_{2}$ \n",
        "\n",
        "from the above function , lets assume $w_{1}=1$, $w_{2}=2$, $x_{1}=3$, $x_{2}=4$ the gradient of $f$ w.r.t $w_{1}$ is\n",
        "\n",
        "\\begin{array} {lcl}\n",
        "\\frac{df}{dw_{1}} = dw_{1} &=&2.w_{1}.x_{1} \\\\& = &2.1.3\\\\& = &6\n",
        "\\end{array}\n",
        "\n",
        "\n",
        "let calculate the aproximate gradient of $w_{1}$ as mentinoned in the above formula and considering $\\epsilon=0.0001$\n",
        "\n",
        "\\begin{array} {lcl}\n",
        "dw_1^{approx} & = & \\frac{f(w1+\\epsilon,w2,x1,x2)-f(w1-\\epsilon,w2,x1,x2)}{2\\epsilon} \\\\ & = & \\frac{((1+0.0001)^{2} . 3 + 2 . 4) - ((1-0.0001)^{2} . 3 + 2 . 4)}{2\\epsilon} \\\\ & = & \\frac{(1.00020001 . 3 + 2 . 4) - (0.99980001. 3 + 2 . 4)}{2*0.0001} \\\\ & = & \\frac{(11.00060003) - (10.99940003)}{0.0002}\\\\ & = & 5.99999999999\n",
        "\\end{array}\n",
        "\n",
        "Then, we apply the following formula for gradient check: <i>gradient_check</i> = \n",
        "$\\frac{\\left\\Vert\\left (dW-dW^{approx}\\rm\\right) \\right\\Vert_2}{\\left\\Vert\\left (dW\\rm\\right) \\right\\Vert_2+\\left\\Vert\\left (dW^{approx}\\rm\\right) \\right\\Vert_2}$\n",
        "\n",
        "The equation above is basically the Euclidean distance normalized by the sum of the norm of the vectors. We use normalization in case that one of the vectors is very small.\n",
        "As a value for epsilon, we usually opt for 1e-7. Therefore, if gradient check return a value less than 1e-7, then it means that backpropagation was implemented correctly. Otherwise, there is potentially a mistake in your implementation. If the value exceeds 1e-3, then you are sure that the code is not correct.\n",
        "\n",
        "in our example: <i>gradient_check</i> $ = \\frac{(6 - 5.999999999994898)}{(6 + 5.999999999994898)} = 4.2514140356330737e^{-13}$\n",
        "\n",
        "you can mathamatically derive the same thing like this\n",
        "\n",
        "\\begin{array} {lcl}\n",
        "dw_1^{approx} & = & \\frac{f(w1+\\epsilon,w2,x1,x2)-f(w1-\\epsilon,w2,x1,x2)}{2\\epsilon} \\\\ & = & \\frac{((w_{1}+\\epsilon)^{2} . x_{1} + w_{2} . x_{2}) - ((w_{1}-\\epsilon)^{2} . x_{1} + w_{2} . x_{2})}{2\\epsilon} \\\\ & = & \\frac{4. \\epsilon.w_{1}. x_{1}}{2\\epsilon} \\\\ & = &  2.w_{1}.x_{1}\n",
        "\\end{array}\n"
      ]
    },
    {
      "cell_type": "markdown",
      "metadata": {
        "id": "f1BFQQaCermK"
      },
      "source": [
        "## <font color='red'> Implement Gradient checking </font> <br>\n",
        " (Write your code in <font color='blue'> def gradient_checking()</font>)"
      ]
    },
    {
      "cell_type": "markdown",
      "metadata": {
        "id": "GqpfA3AqfJba"
      },
      "source": [
        "**Algorithm** \n",
        "\n"
      ]
    },
    {
      "cell_type": "markdown",
      "metadata": {
        "id": "FL39KeRFfNoD"
      },
      "source": [
        "<pre>\n",
        "<font color='darkblue'>\n",
        "W = initilize_randomly\n",
        "def gradient_checking(data_point, W):<font color='grey'>\n",
        "    # compute the L value using forward_propagation()\n",
        "    # compute the gradients of W using backword_propagation()</font>\n",
        "    approx_gradients = []\n",
        "    for each wi weight value in W:<font color='grey'>\n",
        "        # add a small value to weight wi, and then find the values of L with the updated weights\n",
        "        # subtract a small value to weight wi, and then find the values of L with the updated weights\n",
        "        # compute the approximation gradients of weight wi</font>\n",
        "        approx_gradients.append(approximation gradients of weight wi)<font color='grey'>\n",
        "    # compare the gradient of weights W from backword_propagation() with the aproximation gradients of weights with <br>  gradient_check formula</font>\n",
        "    return gradient_check</font>\n",
        "<b>NOTE: you can do sanity check by checking all the return values of gradient_checking(),<br> they have to be zero. if not you have bug in your code\n",
        "</pre></b>"
      ]
    },
    {
      "cell_type": "code",
      "source": [
        "def gradient_checking(x,y,w,eps):\n",
        "    #storing original weight list\n",
        "    w_original=w\n",
        "    # compute the dict value using forward_propagation()\n",
        "    # compute the actual gradients of W using backword_propagation()\n",
        "    forward_dict=forward_propagation(x,y,w)\n",
        "    backward_dict=backward_propagation(x,y,w,forward_dict)\n",
        "    \n",
        "    #we are storing the original gradients for the given datapoints in a list\n",
        "    \n",
        "    original_gradients_list=list(backward_dict.values())\n",
        "    # make sure that the order is correct i.e. first element in the list corresponds to  dw1 ,second element is dw2 etc.\n",
        "    # you can use reverse function if the values are in reverse order\n",
        "    \n",
        "    approx_gradients_list=[]\n",
        "    grad_check_list = []\n",
        "    #now we have to write code for approx gradients, here you have to make sure that you update only one weight at a time\n",
        "    #write your code here and append the approximate gradient value for each weight in  approx_gradients_list\n",
        "    for i in range(len(w)):\n",
        "        w = np.ones(9)*0.1\n",
        "        w[i] = w_original[i]+eps\n",
        "        forward_dict_1=forward_propagation(x,y,w)\n",
        "        loss_1 = forward_dict_1['loss']\n",
        "        w[i] = w_original[i]-eps\n",
        "        forward_dict_2=forward_propagation(x,y,w)\n",
        "        loss_2 = forward_dict_2['loss']\n",
        "        approx = (loss_1 - loss_2)/(2*eps)\n",
        "        approx_gradients_list.append(approx)\n",
        "        num_val = np.linalg.norm(backward_dict[(str(\"dw\")+str(i+1))] - approx)\n",
        "        den_val = np.linalg.norm(backward_dict[(str(\"dw\")+str(i+1))]) + np.linalg.norm(approx)\n",
        "        difference = num_val / den_val\n",
        "        grad_check_list.append(difference)\n",
        "    \n",
        "    \n",
        "    \n",
        "    # #performing gradient check operation\n",
        "    # # original_gradients_list=np.array(original_gradients_list)\n",
        "    # # approx_gradients_list=np.array(approx_gradients_list)\n",
        "    # original_gradients_list=np.array(original_gradients_list)\n",
        "    # approx_gradients_list=np.array(approx_gradients_list)\n",
        "    # gradient_check_value =(np.linalg.norm(original_gradients_list-approx_gradients_list))/(np.linalg.norm(original_gradients_list)+np.linalg.norm(approx_gradients_list))\n",
        "    \n",
        "    #return gradient_check_value\n",
        "    return np.array(grad_check_list)\n",
        "    "
      ],
      "metadata": {
        "id": "HVRXHmejNeey"
      },
      "execution_count": 150,
      "outputs": []
    },
    {
      "cell_type": "code",
      "metadata": {
        "id": "aWSU56GffTKO",
        "colab": {
          "base_uri": "https://localhost:8080/"
        },
        "outputId": "8f0443b9-1071-43e9-ef5d-a0835e4ae9a6"
      },
      "source": [
        "def grader_grad_check(value):\n",
        "    print(value)\n",
        "    assert(np.all(value <= 10**-3))\n",
        "    return True \n",
        "\n",
        "# w=[ 0.00271756,  0.01260512,  0.00167639, -0.00207756,  0.00720768,\n",
        "#    0.00114524,  0.00684168,  0.02242521,  0.01296444]\n",
        "w=np.ones(9)*0.1\n",
        "\n",
        "eps=10**-7\n",
        "value= gradient_checking(X[0],y[0],w,eps)\n",
        "grader_grad_check(value)"
      ],
      "execution_count": 151,
      "outputs": [
        {
          "output_type": "stream",
          "name": "stdout",
          "text": [
            "[4.91886740e-10 3.45272317e-09 5.96991379e-08 3.45795828e-09\n",
            " 2.47763374e-07 4.08396770e-10 3.12418469e-10 1.61174105e-09\n",
            " 1.28467653e-10]\n"
          ]
        },
        {
          "output_type": "execute_result",
          "data": {
            "text/plain": [
              "True"
            ]
          },
          "metadata": {},
          "execution_count": 151
        }
      ]
    },
    {
      "cell_type": "markdown",
      "metadata": {
        "id": "0ufbFBFfhgL0"
      },
      "source": [
        "# <font color='red'> Task 2 : Optimizers </font>"
      ]
    },
    {
      "cell_type": "markdown",
      "metadata": {
        "id": "7zt05soYh1RM"
      },
      "source": [
        "* As a part of this task, you will be implementing 2  optimizers(methods to update weight)\n",
        "* Use the same computational graph that was mentioned above to do this task\n",
        "* The weights have been initialized from normal distribution with mean=0 and std=0.01. The initialization of weights is very important otherwiswe you can face vanishing gradient and exploding gradients problem."
      ]
    },
    {
      "cell_type": "markdown",
      "metadata": {
        "id": "CAyi7aSAicbr"
      },
      "source": [
        "**Check below video for reference purpose**"
      ]
    },
    {
      "cell_type": "code",
      "metadata": {
        "id": "ZogcxiegkQpz"
      },
      "source": [
        "from IPython.display import YouTubeVideo\n",
        "YouTubeVideo('gYpoJMlgyXA',width=\"1000\",height=\"500\")"
      ],
      "execution_count": null,
      "outputs": []
    },
    {
      "cell_type": "markdown",
      "metadata": {
        "id": "jmefh7ktjbaR"
      },
      "source": [
        "<font color='blue'><b>Algorithm</b>"
      ]
    },
    {
      "cell_type": "markdown",
      "metadata": {
        "id": "nAc4NudkjdNa"
      },
      "source": [
        "<pre>\n",
        "    for each epoch(1-20):\n",
        "        for each data point in your data:\n",
        "            using the functions forward_propagation() and backword_propagation() compute the gradients of weights\n",
        "            update the weigts with help of gradients  \n",
        "</pre>"
      ]
    },
    {
      "cell_type": "markdown",
      "metadata": {
        "id": "_fdmPNqtjm3X"
      },
      "source": [
        "## <font color='red'> Implement below tasks</b>"
      ]
    },
    {
      "cell_type": "markdown",
      "metadata": {
        "id": "Ll9-CRsLjx_D"
      },
      "source": [
        "\n",
        "*  <b>Task 2.1</b>: you will be implementing the above algorithm with <b>Vanilla update</b> of weights<br><br>\n",
        "*  <b>Task 2.2</b>: you will be implementing the above algorithm with <b>Momentum update</b> of weights<br><br>\n",
        "*  <b>Task 2.3</b>: you will be implementing the above algorithm with <b>Adam update</b> of weights<br><br>\n"
      ]
    },
    {
      "cell_type": "markdown",
      "metadata": {
        "id": "atp082demrUR"
      },
      "source": [
        "**Note : If you get any assertion error while running grader functions, please print the variables in grader functions and check which variable is returning False .Recheck your logic for that variable .**"
      ]
    },
    {
      "cell_type": "markdown",
      "metadata": {
        "id": "cv_hZFWalS2z"
      },
      "source": [
        "### <font color='blue'>2.1 Algorithm with Vanilla update of weights</font>"
      ]
    },
    {
      "cell_type": "code",
      "metadata": {
        "id": "KlVuEsRjQoW5"
      },
      "source": [
        "from sklearn.metrics import mean_squared_error \n",
        "\n",
        "# mean and standard deviation\n",
        "mu_v, sigma_v = 0, 0.01 \n",
        "rate_v = 0.001\n",
        "# weight intialization\n",
        "w = np.random.normal(mu_v, sigma_v, 9) \n"
      ],
      "execution_count": 184,
      "outputs": []
    },
    {
      "cell_type": "code",
      "source": [
        "epoch_v=[]\n",
        "list_loss_v=[]\n",
        "\n",
        "for epoch in tqdm(range(0,100)):\n",
        "    epoch_v.append(epoch)\n",
        "    dy_pred_val=[]\n",
        "    for i in range(len(data)):\n",
        "        forward_dict_v=forward_propagation(X[i], y[i], w)\n",
        "        dy_pred_val.append(forward_dict_v['dy_pred'])\n",
        "        backward_dict_v=backward_propagation(X[i],y[i],w,forward_dict_v)\n",
        "        w[0]=w[0]-rate_v*backward_dict_v[\"dw1\"]\n",
        "        w[1]=w[1]-rate_v*backward_dict_v[\"dw2\"]\n",
        "        w[2]=w[2]-rate_v*backward_dict_v[\"dw3\"]\n",
        "        w[3]=w[3]-rate_v*backward_dict_v[\"dw4\"]\n",
        "        w[4]=w[4]-rate_v*backward_dict_v[\"dw5\"]\n",
        "        w[5]=w[5]-rate_v*backward_dict_v[\"dw6\"]\n",
        "        w[6]=w[6]-rate_v*backward_dict_v[\"dw7\"]\n",
        "        w[7]=w[7]-rate_v*backward_dict_v[\"dw8\"]\n",
        "        w[8]=w[8]-rate_v*backward_dict_v[\"dw9\"]\n",
        "    loss_v=mean_squared_error(y,dy_pred_val) \n",
        "    list_loss_v.append(loss_v)"
      ],
      "metadata": {
        "colab": {
          "base_uri": "https://localhost:8080/",
          "height": 49,
          "referenced_widgets": [
            "b3884e8dae864c98bb7046733ab40eae",
            "55cff87c9c704ee09ffcb63cb8372d1f",
            "8d33bb66a5c745f58ac5a97754039871",
            "30b421739af6437bb47646f765129cca",
            "4f386412c24b4d7a8c1387eb0f9feccf",
            "b6b1ba96e5c14eafad6bb1717f1d1475",
            "6dac377029a341cdac91dc2680c922b2",
            "05fa7538e9a44a8ebee3e84addf6efa1",
            "412b0403ed68446dab2cc8d4a7625d4a",
            "5ec738c36ec04a828b9e5e15361f4b8c",
            "e134a3c2022a4d34b660a72e5d7943e3"
          ]
        },
        "id": "YjkqjW_VgcdZ",
        "outputId": "2778e09d-f508-4e25-b5bc-66f629f7de37"
      },
      "execution_count": 185,
      "outputs": [
        {
          "output_type": "display_data",
          "data": {
            "text/plain": [
              "  0%|          | 0/100 [00:00<?, ?it/s]"
            ],
            "application/vnd.jupyter.widget-view+json": {
              "version_major": 2,
              "version_minor": 0,
              "model_id": "b3884e8dae864c98bb7046733ab40eae"
            }
          },
          "metadata": {}
        }
      ]
    },
    {
      "cell_type": "markdown",
      "source": [
        "Plot between epochs and loss"
      ],
      "metadata": {
        "id": "bj1F_ZyMgsDs"
      }
    },
    {
      "cell_type": "code",
      "metadata": {
        "id": "HuDaxRnCQoW5",
        "colab": {
          "base_uri": "https://localhost:8080/",
          "height": 531
        },
        "outputId": "5ab441f7-1947-4fc5-97dd-2abc41df3e10"
      },
      "source": [
        "\n",
        "%matplotlib inline\n",
        "import matplotlib.pyplot as plt\n",
        "plt.figure(figsize=(10,8))\n",
        "plt.grid()\n",
        "plt.plot(epoch_v,list_loss_v, label=' loss')\n",
        "plt.title(\"Epoch vs loss by using Optimizer: Vanilla \")\n",
        "plt.xlabel(\"Number of Epochs\")\n",
        "plt.ylabel(\"Loss value\")\n",
        "plt.legend()"
      ],
      "execution_count": 186,
      "outputs": [
        {
          "output_type": "execute_result",
          "data": {
            "text/plain": [
              "<matplotlib.legend.Legend at 0x7f62ba17caf0>"
            ]
          },
          "metadata": {},
          "execution_count": 186
        },
        {
          "output_type": "display_data",
          "data": {
            "text/plain": [
              "<Figure size 720x576 with 1 Axes>"
            ],
            "image/png": "[encoded data removed]"
          },
          "metadata": {
            "needs_background": "light"
          }
        }
      ]
    },
    {
      "cell_type": "markdown",
      "metadata": {
        "id": "V4RWWrZ7lWap"
      },
      "source": [
        "### <font color='blue'>2.2 Algorithm with Momentum update of weights</font>"
      ]
    },
    {
      "cell_type": "markdown",
      "metadata": {
        "id": "oM2BAasL6zz4"
      },
      "source": [
        "<img src='https://i.imgur.com/gyPSXhS.png'>"
      ]
    },
    {
      "cell_type": "markdown",
      "metadata": {
        "id": "2iCc4sIE-4A-"
      },
      "source": [
        "Here Gamma referes to the momentum coefficient, eta is leaning rate and v_t is moving average of our gradients at timestep t"
      ]
    },
    {
      "cell_type": "markdown",
      "metadata": {
        "id": "-KTmDomaQoW5"
      },
      "source": []
    },
    {
      "cell_type": "code",
      "source": [
        "# mean and standard deviation\n",
        "mu_m, sigma_m = 0, 0.01 \n",
        "rate_m =0.001\n",
        "b=0.9\n",
        "m=np.zeros(9)\n",
        "# weight intialization\n",
        "w_m = np.random.normal(mu_m, sigma_m, 9) "
      ],
      "metadata": {
        "id": "-nOfeRVbg1-D"
      },
      "execution_count": 187,
      "outputs": []
    },
    {
      "cell_type": "code",
      "source": [
        "epoch_m=[]\n",
        "list_loss_m=[]\n",
        "\n",
        "for epoch in tqdm(range(0,100)):\n",
        "  epoch_m.append(epoch)\n",
        "  dy_pred_m = []\n",
        "  for idx_m in range(len(data)):\n",
        "    forward_dict_m=forward_propagation(X[idx_m], y[idx_m], w_m)\n",
        "    dy_pred_m.append(forward_dict_m['dy_pred'])\n",
        "    backward_dict_m=backward_propagation(X[idx_m], y[idx_m],w_m,forward_dict_m)\n",
        "    m[0]=b*m[0]+(1-b)*backward_dict_m[\"dw1\"]\n",
        "    w_m[0]=w_m[0]-rate_m*m[0]\n",
        "    m[1]=b*m[1]+(1-b)*backward_dict_m[\"dw2\"]\n",
        "    w_m[1]=w_m[1]-rate_m*m[1]\n",
        "    m[2]=b*m[2]+(1-b)*backward_dict_m[\"dw3\"]\n",
        "    w_m[2]=w_m[2]-rate_m*m[2]\n",
        "    m[3]=b*m[3]+(1-b)*backward_dict_m[\"dw4\"]\n",
        "    w_m[3]=w_m[3]-rate_m*m[3]\n",
        "    m[4]=b*m[4]+(1-b)*backward_dict_m[\"dw5\"]\n",
        "    w_m[4]=w_m[4]-rate_m*m[4]\n",
        "    m[5]=b*m[5]+(1-b)*backward_dict_m[\"dw6\"]\n",
        "    w_m[5]=w_m[5]-rate_m*m[5]\n",
        "    m[6]=b*m[6]+(1-b)*backward_dict_m[\"dw7\"]\n",
        "    w_m[6]=w_m[6]-rate_m*m[6]\n",
        "    m[7]=b*m[7]+(1-b)*backward_dict_m[\"dw8\"]\n",
        "    w_m[7]=w_m[7]-rate_m*m[7]\n",
        "    m[8]=b*m[8]+(1-b)*backward_dict_m[\"dw9\"]\n",
        "    w_m[8]=w_m[8]-rate_m*m[8]\n",
        "  loss_m=mean_squared_error(y,dy_pred_m) \n",
        "  list_loss_m.append(loss_m)"
      ],
      "metadata": {
        "colab": {
          "base_uri": "https://localhost:8080/",
          "height": 49,
          "referenced_widgets": [
            "990cc10733d9477a9288a7d3ba5fd482",
            "4839063087ac4b05a425521c9f789ed6",
            "55434b0da7434f3d9bd992d1724f4fe9",
            "c40a13e8796d4fb5a13b7bc0e14a7466",
            "e7139934377f4dee983111ff8301980d",
            "de237c1b78f34fb780d9d1b796bd9870",
            "23519b83bfe74735a0ae1251d7cdb098",
            "e5d80ad7cfa94c18ac15dd273ec672b1",
            "95276c661d5240b6934fbb3daa86416d",
            "b0fe0d1e5cca49959d1bd6cc3fcf37b4",
            "bc45f31628d642b18ca9be94a7618bf7"
          ]
        },
        "id": "fKGLpIyAg3ZN",
        "outputId": "1143a975-5131-407b-b800-c37008ac0e92"
      },
      "execution_count": 188,
      "outputs": [
        {
          "output_type": "display_data",
          "data": {
            "text/plain": [
              "  0%|          | 0/100 [00:00<?, ?it/s]"
            ],
            "application/vnd.jupyter.widget-view+json": {
              "version_major": 2,
              "version_minor": 0,
              "model_id": "990cc10733d9477a9288a7d3ba5fd482"
            }
          },
          "metadata": {}
        }
      ]
    },
    {
      "cell_type": "markdown",
      "source": [
        "Plot between epochs and loss"
      ],
      "metadata": {
        "id": "-eL9aJAshDQa"
      }
    },
    {
      "cell_type": "code",
      "source": [
        "%matplotlib inline\n",
        "import matplotlib.pyplot as plt\n",
        "plt.figure(figsize=(10,8))\n",
        "plt.grid()\n",
        "plt.plot(epoch_m,list_loss_m, label=' loss')\n",
        "plt.title(\"Epoch vs loss by using Optimizer: Momentum\")\n",
        "plt.xlabel(\"Number of Epochs\")\n",
        "plt.ylabel(\"Loss value\")\n",
        "\n",
        "plt.legend()\n",
        "plt.show()"
      ],
      "metadata": {
        "colab": {
          "base_uri": "https://localhost:8080/",
          "height": 513
        },
        "id": "Rt760EfBg3V4",
        "outputId": "a563604d-2846-4de3-afe9-6a58111c1e33"
      },
      "execution_count": 189,
      "outputs": [
        {
          "output_type": "display_data",
          "data": {
            "text/plain": [
              "<Figure size 720x576 with 1 Axes>"
            ],
            "image/png": "[encoded data removed]"
          },
          "metadata": {
            "needs_background": "light"
          }
        }
      ]
    },
    {
      "cell_type": "markdown",
      "metadata": {
        "id": "Agtmr_lZQoW6"
      },
      "source": [
        "### <font color='blue'>2.3 Algorithm with Adam update of weights</font>"
      ]
    },
    {
      "cell_type": "markdown",
      "metadata": {
        "id": "WRYiT2KKQoW6"
      },
      "source": [
        "<img src='https://i.imgur.com/GDR8UFP.jpg'>"
      ]
    },
    {
      "cell_type": "code",
      "metadata": {
        "id": "0YffVQ2LQoW6"
      },
      "source": [
        "# mean and standard deviation\n",
        "mu_a, sigma_a = 0, 0.01 \n",
        "rate_a=0.001\n",
        "m,v =np.zeros(9), np.zeros(9)\n",
        "b1,b2=0.9,0.999\n",
        "z=1e-8\n",
        "# weight intialization\n",
        "w_a = np.random.normal(mu_a, sigma_a, 9)"
      ],
      "execution_count": 191,
      "outputs": []
    },
    {
      "cell_type": "code",
      "source": [
        "from math import *"
      ],
      "metadata": {
        "id": "rdh7GWd5hg58"
      },
      "execution_count": 192,
      "outputs": []
    },
    {
      "cell_type": "code",
      "source": [
        "epoch_a=[]\n",
        "list_loss_a=[]\n",
        "\n",
        "for epoch in tqdm(range(0,100)):\n",
        "    epoch_a.append(epoch)\n",
        "    dy_pred_a=[]\n",
        "    for idx_a in range(len(data)):\n",
        "        forward_dict_a=forward_propagation(X[idx_a], y[idx_a], w_a)\n",
        "        dy_pred_a.append(forward_dict_a['dy_pred'])\n",
        "        backward_dict_a=backward_propagation(X[idx_a],y[idx_a],w_a,forward_dict_a)\n",
        "        m[0]=b1*m[0]+(1-b1)*backward_dict_a[\"dw1\"]\n",
        "        m_t_0=m[0]/(1-b1)\n",
        "        v[0]=b2*v[0]+(1-b2)*pow(backward_dict_a[\"dw1\"],2)\n",
        "        v_t_0=v[0]/(1-b2)\n",
        "        w_a[0]=w_a[0]-(rate_a/(sqrt(v_t_0)+z))*m_t_0\n",
        "        m[1]=b1*m[1]+(1-b1)*backward_dict_a[\"dw2\"]\n",
        "        m_t_1=m[1]/(1-b1)\n",
        "        v[1]=b2*v[1]+(1-b2)*pow(backward_dict_a[\"dw2\"],2)\n",
        "        v_t_1=v[1]/(1-b2)\n",
        "        w_a[1]=w_a[1]-(rate_a/(sqrt(v_t_1)+z))*m_t_1\n",
        "        m[2]=b1*m[2]+(1-b1)*backward_dict_a[\"dw3\"]\n",
        "        m_t_2=m[2]/(1-b1)\n",
        "        v[2]=b2*v[2]+(1-b2)*pow(backward_dict_a[\"dw3\"],2)\n",
        "        v_t_2=v[2]/(1-b2)\n",
        "        w_a[2]=w_a[2]-(rate_a/(sqrt(v_t_2)+z))*m_t_2\n",
        "        m[3]=b1*m[3]+(1-b1)*backward_dict_a[\"dw4\"]\n",
        "        m_t_3=m[3]/(1-b1)\n",
        "        v[3]=b2*v[3]+(1-b2)*pow(backward_dict_a[\"dw4\"],2)\n",
        "        v_t_3=v[3]/(1-b2)\n",
        "        w_a[3]=w_a[3]-(rate_a/(sqrt(v_t_3)+z))*m_t_3\n",
        "        m[4]=b1*m[4]+(1-b1)*backward_dict_a[\"dw5\"]\n",
        "        m_t_4=m[4]/(1-b1)\n",
        "        v[4]=b2*v[4]+(1-b2)*pow(backward_dict_a[\"dw5\"],2)\n",
        "        v_t_4=v[4]/(1-b2)\n",
        "        w_a[4]=w_a[4]-(rate_a/(sqrt(v_t_4)+z))*m_t_4\n",
        "        m[5]=b1*m[5]+(1-b1)*backward_dict_a[\"dw6\"]\n",
        "        m_t_5=m[5]/(1-b1)\n",
        "        v[5]=b2*v[5]+(1-b2)*pow(backward_dict_a[\"dw6\"],2)\n",
        "        v_t_5=v[5]/(1-b2)\n",
        "        w_a[5]=w_a[5]-(rate_a/(sqrt(v_t_5)+z))*m_t_5\n",
        "        m[6]=b1*m[6]+(1-b1)*backward_dict_a[\"dw7\"]\n",
        "        m_t_6=m[6]/(1-b1)\n",
        "        v[6]=b2*v[6]+(1-b2)*pow(backward_dict_a[\"dw7\"],2)\n",
        "        v_t_6=v[6]/(1-b2)\n",
        "        w_a[6]=w_a[6]-(rate_a/(sqrt(v_t_6)+z))*m_t_6\n",
        "        m[7]=b1*m[7]+(1-b1)*backward_dict_a[\"dw8\"]\n",
        "        m_t_7=m[7]/(1-b1)\n",
        "        v[7]=b2*v[7]+(1-b2)*pow(backward_dict_a[\"dw8\"],2)\n",
        "        v_t_7=v[7]/(1-b2)\n",
        "        w_a[7]=w_a[7]-(rate_a/(sqrt(v_t_7)+z))*m_t_7\n",
        "        m[8]=b1*m[8]+(1-b1)*backward_dict_a[\"dw9\"]\n",
        "        m_t_8=m[8]/(1-b1)\n",
        "        v[8]=b2*v[8]+(1-b2)*pow(backward_dict_a[\"dw9\"],2)\n",
        "        v_t_8=v[8]/(1-b2)\n",
        "        w_a[8]=w_a[8]-(rate_a/(sqrt(v_t_8)+z))*m_t_8\n",
        "    loss_a=mean_squared_error(y,dy_pred_a) \n",
        "    list_loss_a.append(loss_a)"
      ],
      "metadata": {
        "colab": {
          "base_uri": "https://localhost:8080/",
          "height": 49,
          "referenced_widgets": [
            "62dbe7e5b83a4e4c897f87db3ba678bf",
            "45b04695d89d404880c613a22a11e4a7",
            "809ddf34bd1e4bb3ba056ce220deaf8f",
            "b0b305b19dc043bf99c7dab189e227d6",
            "0d6adcd13180456d9b04b7ee382209ef",
            "2dc57d7fca8045d789f1d871923c0bce",
            "07c78edc31814f47a0f91106d18acb52",
            "b840b4cc09b445cca91b74778695c876",
            "c4d484383cf54b788e8007e060c03fbf",
            "1c3810b587b34f03986d9ceea0e84ad6",
            "a40b79a044c94e8c867d8f53041d9fb6"
          ]
        },
        "id": "lam1DslOhH8m",
        "outputId": "175af3ce-2dcd-4f6b-945c-08d4eae00681"
      },
      "execution_count": 193,
      "outputs": [
        {
          "output_type": "display_data",
          "data": {
            "text/plain": [
              "  0%|          | 0/100 [00:00<?, ?it/s]"
            ],
            "application/vnd.jupyter.widget-view+json": {
              "version_major": 2,
              "version_minor": 0,
              "model_id": "62dbe7e5b83a4e4c897f87db3ba678bf"
            }
          },
          "metadata": {}
        }
      ]
    },
    {
      "cell_type": "markdown",
      "source": [
        "Plot between epochs and loss"
      ],
      "metadata": {
        "id": "SDB0uAqihqZj"
      }
    },
    {
      "cell_type": "code",
      "source": [
        "%matplotlib inline\n",
        "import matplotlib.pyplot as plt\n",
        "plt.figure(figsize=(10,8))\n",
        "plt.plot(epoch_a,list_loss_a, label=' loss')\n",
        "plt.title(\"Epoch vs loss by using Optimizer: Adam\")\n",
        "plt.xlabel(\"Number of Epochs\")\n",
        "plt.ylabel(\"Loss value\")\n",
        "plt.grid()\n",
        "plt.legend()\n",
        "plt.show"
      ],
      "metadata": {
        "colab": {
          "base_uri": "https://localhost:8080/",
          "height": 531
        },
        "id": "iPSY5u1uhH29",
        "outputId": "d6b8ba85-490b-407c-db0f-80a7e1805e83"
      },
      "execution_count": 194,
      "outputs": [
        {
          "output_type": "execute_result",
          "data": {
            "text/plain": [
              "<function matplotlib.pyplot.show(*args, **kw)>"
            ]
          },
          "metadata": {},
          "execution_count": 194
        },
        {
          "output_type": "display_data",
          "data": {
            "text/plain": [
              "<Figure size 720x576 with 1 Axes>"
            ],
            "image/png": "[encoded data removed]"
          },
          "metadata": {
            "needs_background": "light"
          }
        }
      ]
    },
    {
      "cell_type": "markdown",
      "metadata": {
        "id": "7627cy8YlnYO"
      },
      "source": [
        "<font color='blue'>Comparision plot between epochs and loss with different optimizers. Make sure that loss is conerging with increaing epochs</font>"
      ]
    },
    {
      "cell_type": "code",
      "metadata": {
        "id": "scleSfIXl_bC",
        "colab": {
          "base_uri": "https://localhost:8080/",
          "height": 531
        },
        "outputId": "a9b46807-3e68-4f00-ef12-d11bfcd89474"
      },
      "source": [
        "#plot the graph between loss vs epochs for all 3 optimizers.\n",
        "%matplotlib inline\n",
        "import matplotlib.pyplot as plt\n",
        "plt.figure(figsize=(10,8))\n",
        "\n",
        "plt.plot(epoch_v,list_loss_v, label='Vanilla update')\n",
        "plt.plot(epoch_m,list_loss_m, label='Momentum update')\n",
        "plt.plot(epoch_a,list_loss_a, label='Adam update')\n",
        "plt.title(\"Comparision - Epoch vs loss by using different Optimizers\")\n",
        "plt.xlabel(\"Number of Epochs\")\n",
        "plt.ylabel(\"Loss value\")\n",
        "plt.grid()\n",
        "plt.legend()"
      ],
      "execution_count": 195,
      "outputs": [
        {
          "output_type": "execute_result",
          "data": {
            "text/plain": [
              "<matplotlib.legend.Legend at 0x7f62ba01ffa0>"
            ]
          },
          "metadata": {},
          "execution_count": 195
        },
        {
          "output_type": "display_data",
          "data": {
            "text/plain": [
              "<Figure size 720x576 with 1 Axes>"
            ],
            "image/png": "[encoded data removed]"
          },
          "metadata": {
            "needs_background": "light"
          }
        }
      ]
    },
    {
      "cell_type": "markdown",
      "metadata": {
        "id": "YfDWEOCr69uQ"
      },
      "source": [
        "<font color='blue'><b>You can go through the following blog to understand the implementation of other optimizers .</font>\n",
        "   <br> [Gradients update blog](https://cs231n.github.io/neural-networks-3/) </br>"
      ]
    },
    {
      "cell_type": "code",
      "source": [],
      "metadata": {
        "id": "3WvoQJAhf-lh"
      },
      "execution_count": null,
      "outputs": []
    }
  ]
}